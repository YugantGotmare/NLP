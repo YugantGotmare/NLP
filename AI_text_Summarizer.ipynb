{
  "nbformat": 4,
  "nbformat_minor": 0,
  "metadata": {
    "colab": {
      "provenance": [],
      "authorship_tag": "ABX9TyOOrAKlbdf3m4/29WH7ESUe",
      "include_colab_link": true
    },
    "kernelspec": {
      "name": "python3",
      "display_name": "Python 3"
    },
    "language_info": {
      "name": "python"
    }
  },
  "cells": [
    {
      "cell_type": "markdown",
      "metadata": {
        "id": "view-in-github",
        "colab_type": "text"
      },
      "source": [
        "<a href=\"https://colab.research.google.com/github/YugantGotmare/NLP/blob/master/AI_text_Summarizer.ipynb\" target=\"_parent\"><img src=\"https://colab.research.google.com/assets/colab-badge.svg\" alt=\"Open In Colab\"/></a>"
      ]
    },
    {
      "cell_type": "code",
      "source": [
        "!pip install transformers"
      ],
      "metadata": {
        "colab": {
          "base_uri": "https://localhost:8080/"
        },
        "id": "46nLjSMB2pOC",
        "outputId": "583a153a-c0f0-413d-af3e-39f3c78e1a1d"
      },
      "execution_count": 16,
      "outputs": [
        {
          "output_type": "stream",
          "name": "stdout",
          "text": [
            "Looking in indexes: https://pypi.org/simple, https://us-python.pkg.dev/colab-wheels/public/simple/\n",
            "Requirement already satisfied: transformers in /usr/local/lib/python3.9/dist-packages (4.27.3)\n",
            "Requirement already satisfied: requests in /usr/local/lib/python3.9/dist-packages (from transformers) (2.27.1)\n",
            "Requirement already satisfied: tqdm>=4.27 in /usr/local/lib/python3.9/dist-packages (from transformers) (4.65.0)\n",
            "Requirement already satisfied: pyyaml>=5.1 in /usr/local/lib/python3.9/dist-packages (from transformers) (6.0)\n",
            "Requirement already satisfied: tokenizers!=0.11.3,<0.14,>=0.11.1 in /usr/local/lib/python3.9/dist-packages (from transformers) (0.13.2)\n",
            "Requirement already satisfied: filelock in /usr/local/lib/python3.9/dist-packages (from transformers) (3.10.2)\n",
            "Requirement already satisfied: huggingface-hub<1.0,>=0.11.0 in /usr/local/lib/python3.9/dist-packages (from transformers) (0.13.3)\n",
            "Requirement already satisfied: numpy>=1.17 in /usr/local/lib/python3.9/dist-packages (from transformers) (1.22.4)\n",
            "Requirement already satisfied: regex!=2019.12.17 in /usr/local/lib/python3.9/dist-packages (from transformers) (2022.10.31)\n",
            "Requirement already satisfied: packaging>=20.0 in /usr/local/lib/python3.9/dist-packages (from transformers) (23.0)\n",
            "Requirement already satisfied: typing-extensions>=3.7.4.3 in /usr/local/lib/python3.9/dist-packages (from huggingface-hub<1.0,>=0.11.0->transformers) (4.5.0)\n",
            "Requirement already satisfied: charset-normalizer~=2.0.0 in /usr/local/lib/python3.9/dist-packages (from requests->transformers) (2.0.12)\n",
            "Requirement already satisfied: idna<4,>=2.5 in /usr/local/lib/python3.9/dist-packages (from requests->transformers) (3.4)\n",
            "Requirement already satisfied: certifi>=2017.4.17 in /usr/local/lib/python3.9/dist-packages (from requests->transformers) (2022.12.7)\n",
            "Requirement already satisfied: urllib3<1.27,>=1.21.1 in /usr/local/lib/python3.9/dist-packages (from requests->transformers) (1.26.15)\n"
          ]
        }
      ]
    },
    {
      "cell_type": "code",
      "execution_count": 17,
      "metadata": {
        "id": "0fXZxqWM2RMl"
      },
      "outputs": [],
      "source": [
        "from transformers import pipeline"
      ]
    },
    {
      "cell_type": "code",
      "source": [
        "summary_model = pipeline(\"summarization\")"
      ],
      "metadata": {
        "id": "NwWRPBq42eJC"
      },
      "execution_count": null,
      "outputs": []
    },
    {
      "cell_type": "code",
      "source": [
        "data = \"\"\" \n",
        "Major changes have recently occured in my life, both personally and professionally. We're approaching five years since the inception of this blog, and going back to read the posts from May '04 is quite the experience. I suppose its what diaries and journals are for, the chance to go back and read out your thoughts and ideas from another time. Kind of like mental time travel\n",
        "\n",
        "One thing is for sure, I am not who I was then. In fact, I am not who I was last year or the year before that. I may have some (we shed and create a lot of cells frequently) of the bodily composition of that person but we are definitely on different wavelengths.\n",
        "\n",
        "This whole blogging business started off as a documentation of odd and quirky ideas I might have. I had a lot of time on my hands back then, hence the frequency of the posts. With time, the posts have decreased in number but have also slightly sharpened in focus. They may still be random and don't generally adhere to one unified theme, but this thing was meant to be disjointed and arbitrary anyway.\n",
        "\n",
        "I know blogging has pretty much gone out of style these days, but I never meant for this to be stylish. The more I read my old posts, the more I believe that continuing to write here if only to be able to re-read it later is worthwhile. These next few lines (in no particular order) are for future perusing \n",
        "\"\"\""
      ],
      "metadata": {
        "id": "K1lNVu9b23mv"
      },
      "execution_count": 19,
      "outputs": []
    },
    {
      "cell_type": "code",
      "source": [
        "summary = summary_model(data, max_length=130, min_length=10, do_sample=False)"
      ],
      "metadata": {
        "id": "JhIPtIeG276q"
      },
      "execution_count": 20,
      "outputs": []
    },
    {
      "cell_type": "code",
      "source": [
        "summary[0]['summary_text']"
      ],
      "metadata": {
        "colab": {
          "base_uri": "https://localhost:8080/",
          "height": 53
        },
        "id": "N6wuH74Y273z",
        "outputId": "45ed5bfd-12e6-444f-ade1-6e3b7e405d78"
      },
      "execution_count": 21,
      "outputs": [
        {
          "output_type": "execute_result",
          "data": {
            "text/plain": [
              "\" We're approaching five years since the inception of this blog . Going back to read the posts from May '04 is quite the experience . The more I read my old posts, the more I believe that continuing to write here if only to be able to re-read it later is worthwhile .\""
            ],
            "application/vnd.google.colaboratory.intrinsic+json": {
              "type": "string"
            }
          },
          "metadata": {},
          "execution_count": 21
        }
      ]
    },
    {
      "cell_type": "code",
      "source": [],
      "metadata": {
        "id": "_I5LCUO_7bQF"
      },
      "execution_count": 21,
      "outputs": []
    }
  ]
}